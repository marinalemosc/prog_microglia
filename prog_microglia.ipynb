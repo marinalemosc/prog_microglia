{
 "cells": [
  {
   "cell_type": "code",
   "execution_count": 1,
   "metadata": {},
   "outputs": [],
   "source": [
    "import pandas as pd\n",
    "import numpy as np\n",
    "import seaborn as sns\n",
    "import matplotlib.pyplot as plt "
   ]
  },
  {
   "cell_type": "code",
   "execution_count": 2,
   "metadata": {},
   "outputs": [
    {
     "data": {
      "text/html": [
       "<div>\n",
       "<style scoped>\n",
       "    .dataframe tbody tr th:only-of-type {\n",
       "        vertical-align: middle;\n",
       "    }\n",
       "\n",
       "    .dataframe tbody tr th {\n",
       "        vertical-align: top;\n",
       "    }\n",
       "\n",
       "    .dataframe thead th {\n",
       "        text-align: right;\n",
       "    }\n",
       "</style>\n",
       "<table border=\"1\" class=\"dataframe\">\n",
       "  <thead>\n",
       "    <tr style=\"text-align: right;\">\n",
       "      <th></th>\n",
       "      <th>Grupo</th>\n",
       "      <th>Animal</th>\n",
       "      <th>Branches</th>\n",
       "      <th>Endpoint</th>\n",
       "      <th>Branch lenght</th>\n",
       "      <th>Num cells</th>\n",
       "      <th>Densidade</th>\n",
       "      <th>Amplitude (SR)</th>\n",
       "      <th>Circularidade</th>\n",
       "      <th>Area</th>\n",
       "    </tr>\n",
       "  </thead>\n",
       "  <tbody>\n",
       "    <tr>\n",
       "      <th>0</th>\n",
       "      <td>Jovem</td>\n",
       "      <td>1.1</td>\n",
       "      <td>218.81</td>\n",
       "      <td>346.70</td>\n",
       "      <td>168126.63</td>\n",
       "      <td>27</td>\n",
       "      <td>0.065</td>\n",
       "      <td>1.062</td>\n",
       "      <td>0.864</td>\n",
       "      <td>53184</td>\n",
       "    </tr>\n",
       "    <tr>\n",
       "      <th>1</th>\n",
       "      <td>Jovem</td>\n",
       "      <td>1.1</td>\n",
       "      <td>291.00</td>\n",
       "      <td>440.71</td>\n",
       "      <td>224866.81</td>\n",
       "      <td>21</td>\n",
       "      <td>0.088</td>\n",
       "      <td>1.266</td>\n",
       "      <td>0.883</td>\n",
       "      <td>31161</td>\n",
       "    </tr>\n",
       "  </tbody>\n",
       "</table>\n",
       "</div>"
      ],
      "text/plain": [
       "   Grupo Animal  Branches  Endpoint  Branch lenght  Num cells  Densidade  \\\n",
       "0  Jovem    1.1    218.81    346.70      168126.63         27      0.065   \n",
       "1  Jovem    1.1    291.00    440.71      224866.81         21      0.088   \n",
       "\n",
       "   Amplitude (SR)  Circularidade   Area  \n",
       "0           1.062          0.864  53184  \n",
       "1           1.266          0.883  31161  "
      ]
     },
     "execution_count": 2,
     "metadata": {},
     "output_type": "execute_result"
    }
   ],
   "source": [
    "# Importando dados da morfologia microglial\n",
    "microglia_df = pd.read_csv(\"C:/Users/marin/OneDrive/Documentos/Prog/dados_microglia.csv.csv\", decimal=',')\n",
    "# Removendo a coluna de indice da analise \n",
    "del microglia_df['Índice de Analise']\n",
    "microglia_df.head(2)"
   ]
  },
  {
   "cell_type": "code",
   "execution_count": 3,
   "metadata": {},
   "outputs": [
    {
     "data": {
      "text/plain": [
       "<AxesSubplot:xlabel='Grupo', ylabel='Num cells'>"
      ]
     },
     "execution_count": 3,
     "metadata": {},
     "output_type": "execute_result"
    },
    {
     "data": {
      "image/png": "[encoded data removed]",
      "text/plain": [
       "<Figure size 432x288 with 1 Axes>"
      ]
     },
     "metadata": {},
     "output_type": "display_data"
    }
   ],
   "source": [
    "# Grafico n1-> Numero de celulas x grupos\n",
    "sns.set(style = 'darkgrid')\n",
    "sns.boxplot(x=microglia_df['Grupo'],y=microglia_df['Num cells'],palette='Set2')\n",
    "sns.stripplot(x=microglia_df['Grupo'], y=microglia_df['Num cells'],color='black', jitter=0.2, size=4)"
   ]
  }
 ],
 "metadata": {
  "interpreter": {
   "hash": "f30bd24d4e70c584bb51c8133ec35cbc0a147a5d13c6834f616984e2f952cdc6"
  },
  "kernelspec": {
   "display_name": "Python 3.7.11 64-bit ('myenv': conda)",
   "name": "python3"
  },
  "language_info": {
   "codemirror_mode": {
    "name": "ipython",
    "version": 3
   },
   "file_extension": ".py",
   "mimetype": "text/x-python",
   "name": "python",
   "nbconvert_exporter": "python",
   "pygments_lexer": "ipython3",
   "version": "3.7.11"
  },
  "orig_nbformat": 4
 },
 "nbformat": 4,
 "nbformat_minor": 2
}
